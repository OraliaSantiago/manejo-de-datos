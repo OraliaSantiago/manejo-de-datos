{
 "cells": [
  {
   "cell_type": "markdown",
   "id": "9144cdd7-489e-4cee-b07c-10f0a822807a",
   "metadata": {},
   "source": [
    "# Introducción a Jupyter empleando R."
   ]
  },
  {
   "cell_type": "markdown",
   "id": "9f76e272-092d-4355-b8b6-a64a017b1f00",
   "metadata": {},
   "source": [
    "Vamos a explicar el funcionamiento de los Notebooks con un problema que solicita un intervalo de confianza. "
   ]
  },
  {
   "cell_type": "markdown",
   "id": "1a376159-5eb2-4083-880b-290b7c660c18",
   "metadata": {},
   "source": [
    "## Problema"
   ]
  },
  {
   "cell_type": "markdown",
   "id": "83a026dd-507f-49bc-ae79-42037befbdac",
   "metadata": {},
   "source": [
    "CNBC (canal de televisión de EUA) presentó datos estadísticos sobre la cantidad promedio de minutos de programa en media hora de transmisión. Los datos siguientes (en minutos)  son representativos de sus hallazgos. "
   ]
  },
  {
   "cell_type": "markdown",
   "id": "1500e232-c453-4e1f-8ce5-e5247d1fe02f",
   "metadata": {},
   "source": [
    "![Imagen3](Imagen3.png)"
   ]
  },
  {
   "cell_type": "markdown",
   "id": "37c0f669-3d17-41d0-bb66-9e57d86a67a5",
   "metadata": {},
   "source": [
    "Suponiendo que la población es aproximadamente normal. Dé una estimación puntual y un intervalo de confianza de 99% para la cantidad media de minutos de programa en media hora de transmisión."
   ]
  },
  {
   "cell_type": "markdown",
   "id": "0ccd37c0-50e1-4e5f-bc52-e8a41af1dbd2",
   "metadata": {},
   "source": [
    "### Solución:"
   ]
  },
  {
   "cell_type": "markdown",
   "id": "26a49c05-db6f-4707-aa91-a87e6f139801",
   "metadata": {},
   "source": [
    "Para dar una estimación puntual por intervalo debemos calcular:"
   ]
  },
  {
   "cell_type": "markdown",
   "id": "c676467a-67f7-414f-a00f-f04d8d1e5d21",
   "metadata": {},
   "source": [
    "$$\n",
    "\\bar{x} \\pm t_{\\alpha/2} \\frac{s}{\\sqrt{n}}\n",
    "$$\n"
   ]
  },
  {
   "cell_type": "markdown",
   "id": "5f82a79b-d8cc-4135-a3ee-236ffdd1efac",
   "metadata": {},
   "source": [
    "Para ello buscamos la media y desviación estáandar muestral ya que no conocemos los mismos valores de la población. Empleando R, la media es:"
   ]
  },
  {
   "cell_type": "code",
   "execution_count": 25,
   "id": "f3834006-071b-425a-81e3-3275fff0288d",
   "metadata": {},
   "outputs": [
    {
     "name": "stdout",
     "output_type": "stream",
     "text": [
      "La media muestral x es: 22"
     ]
    }
   ],
   "source": [
    "datos <- c(21.06,22.24,20.62,21.66,21.23,23.86,23.82,20.30,21.52,21.52,21.91,23.14,20.02,22.20,21.20,22.37,22.19,22.34,23.36,23.44)\n",
    "media <- mean(datos)\n",
    "cat(\"La media muestral x es:\", media)"
   ]
  },
  {
   "cell_type": "markdown",
   "id": "2c23b83f-c8c1-4581-8448-7572397c8ac5",
   "metadata": {},
   "source": [
    "Ahora buscamos la desviación estándar: "
   ]
  },
  {
   "cell_type": "code",
   "execution_count": 26,
   "id": "0ec2e0a8-f017-4060-8eb5-32a031e33fe9",
   "metadata": {},
   "outputs": [
    {
     "name": "stdout",
     "output_type": "stream",
     "text": [
      "La desviación estandar muestral sigma es: 1.119135"
     ]
    }
   ],
   "source": [
    "desviacion <- sd(datos)\n",
    "cat(\"La desviación estandar muestral sigma es:\", desviacion)"
   ]
  },
  {
   "cell_type": "markdown",
   "id": "9307aee3-c1f9-4017-835d-a33c7382218e",
   "metadata": {},
   "source": [
    "Calculamos $\\alpha$, si, $1- \\alpha= 0.99$, entonces $\\alpha = 0.01$. De esta forma, basándonos en la ecuación $\\bar{x} \\pm t_{\\alpha/2} \\frac{s}{\\sqrt{n}}$ debemos calcular el valor de $t_{0.005}$. Para esto empleamos la función $qt()$ de R, que tiene la siguiente forma:"
   ]
  },
  {
   "cell_type": "raw",
   "id": "c4f53b37-ea5f-4102-a8ad-a060966a499b",
   "metadata": {},
   "source": [
    "qt(p, df, lower.tail = FALSE, log.p = FALSE)"
   ]
  },
  {
   "cell_type": "raw",
   "id": "4a42a25c-b7cc-41e0-855a-69b33aa61b78",
   "metadata": {},
   "source": [
    "Para la cual insertamos los valores: p = 0.005 (valor de t_0.005), df = 19 (grados de libertad), lower.tail = FALSE (cola superior) y log.p = FALSE (para descartar uso de escala logarítmica). Recuerde que df = n − 1 = 20 − 1 = 19. El código tiene la forma siguiente:"
   ]
  },
  {
   "cell_type": "code",
   "execution_count": 27,
   "id": "95f7bdc9-6e31-4625-824b-1ce9bb3b1922",
   "metadata": {},
   "outputs": [
    {
     "name": "stdout",
     "output_type": "stream",
     "text": [
      "El valor de t_0.005 es: 2.860935"
     ]
    }
   ],
   "source": [
    "resultado <- qt(p = 0.005, df = 19, lower.tail = FALSE, log.p = FALSE)\n",
    "cat(\"El valor de t_0.005 es:\", resultado)"
   ]
  },
  {
   "cell_type": "markdown",
   "id": "5183ca9d-beaf-46b7-b65c-7a3476ab90cd",
   "metadata": {},
   "source": [
    "Ahora, podemos sustituir todos los valores en $\\bar{x} \\pm t_{\\alpha/2} \\frac{s}{\\sqrt{n}}$, nos queda de la siguiente forma:\n",
    "$$\n",
    "22 \\pm (2.860935) \\frac{1.119135}{\\sqrt{20}}\n",
    "$$"
   ]
  },
  {
   "cell_type": "markdown",
   "id": "2c4fba02-ab72-4d2e-b178-25c0952fafa2",
   "metadata": {},
   "source": [
    "Finalmente obtenemos: \n",
    "\n",
    "$$\n",
    "22 \\pm 0.7160\n",
    "$$"
   ]
  },
  {
   "cell_type": "markdown",
   "id": "4315d942-3038-496b-aaae-aee75fc7ea55",
   "metadata": {},
   "source": [
    "Podemos concluir que: La estimación puntual de la media es 22 min., el margen de error es de 0.7160 min. y el intervalo de confianza de $99\\%$ va de $22- 0.7160 = 21.284$ min. a $22 + 0.716 = 22.716$ min."
   ]
  },
  {
   "cell_type": "markdown",
   "id": "64cd110c-f90d-4951-9931-ba05e2515962",
   "metadata": {},
   "source": [
    "Como un ejercicio adicional podemos hacer un histograma con los datos que proporciona el problema: "
   ]
  },
  {
   "cell_type": "code",
   "execution_count": 28,
   "id": "de856b9f-d0b7-4d20-a36c-a8a914d6c498",
   "metadata": {},
   "outputs": [
    {
     "data": {
      "image/png": "[encoded data removed]",
      "text/plain": [
       "Plot with title \"Histograma\""
      ]
     },
     "metadata": {
      "image/png": {
       "height": 420,
       "width": 420
      }
     },
     "output_type": "display_data"
    }
   ],
   "source": [
    "hist(datos,\n",
    "     main = \"Histograma\", \n",
    "     xlab = \"Valores\",\n",
    "     ylab = \"Frecuencia\")"
   ]
  }
 ],
 "metadata": {
  "kernelspec": {
   "display_name": "R",
   "language": "R",
   "name": "ir"
  },
  "language_info": {
   "codemirror_mode": "r",
   "file_extension": ".r",
   "mimetype": "text/x-r-source",
   "name": "R",
   "pygments_lexer": "r",
   "version": "4.4.2"
  }
 },
 "nbformat": 4,
 "nbformat_minor": 5
}
